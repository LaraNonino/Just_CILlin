{
 "cells": [
  {
   "cell_type": "markdown",
   "metadata": {
    "id": "_Sg4bOmBSf3f"
   },
   "source": [
    "# Sentiment Classification Project"
   ]
  },
  {
   "cell_type": "code",
   "execution_count": 1,
   "metadata": {},
   "outputs": [
    {
     "name": "stdout",
     "output_type": "stream",
     "text": [
      "Defaulting to user installation because normal site-packages is not writeable\n",
      "Requirement already satisfied: numpy in /cluster/apps/nss/gcc-8.2.0/python/3.10.4/x86_64/lib64/python3.10/site-packages (from -r reqs.txt (line 1)) (1.22.4)\n",
      "Requirement already satisfied: torch in /cluster/apps/nss/gcc-8.2.0/python/3.10.4/x86_64/lib64/python3.10/site-packages (from -r reqs.txt (line 2)) (1.11.0+cu113)\n",
      "Requirement already satisfied: torchvision in /cluster/apps/nss/gcc-8.2.0/python/3.10.4/x86_64/lib64/python3.10/site-packages (from -r reqs.txt (line 3)) (0.12.0+cu113)\n",
      "Requirement already satisfied: torchtext in /cluster/home/amohame/.local/lib/python3.10/site-packages (from -r reqs.txt (line 4)) (0.12.0)\n",
      "Requirement already satisfied: torchmetrics in /cluster/home/amohame/.local/lib/python3.10/site-packages (from -r reqs.txt (line 5)) (0.11.4)\n",
      "Requirement already satisfied: pytorch_lightning in /cluster/home/amohame/.local/lib/python3.10/site-packages (from -r reqs.txt (line 6)) (2.0.4)\n",
      "Requirement already satisfied: scikit-learn in /cluster/apps/nss/gcc-8.2.0/python/3.10.4/x86_64/lib64/python3.10/site-packages (from -r reqs.txt (line 7)) (1.1.1)\n",
      "Requirement already satisfied: scipy in /cluster/apps/nss/gcc-8.2.0/python/3.10.4/x86_64/lib64/python3.10/site-packages (from -r reqs.txt (line 8)) (1.8.1)\n",
      "Requirement already satisfied: nltk in /cluster/apps/nss/gcc-8.2.0/python/3.10.4/x86_64/lib64/python3.10/site-packages (from -r reqs.txt (line 9)) (3.7)\n",
      "Requirement already satisfied: gensim in /cluster/home/amohame/.local/lib/python3.10/site-packages (from -r reqs.txt (line 10)) (4.3.1)\n",
      "Requirement already satisfied: wandb in /cluster/apps/nss/gcc-8.2.0/python/3.10.4/x86_64/lib64/python3.10/site-packages (from -r reqs.txt (line 11)) (0.12.17)\n",
      "Requirement already satisfied: typing-extensions in /cluster/apps/nss/gcc-8.2.0/python/3.10.4/x86_64/lib64/python3.10/site-packages (from torch->-r reqs.txt (line 2)) (4.2.0)\n",
      "Requirement already satisfied: requests in /cluster/apps/nss/gcc-8.2.0/python/3.10.4/x86_64/lib64/python3.10/site-packages (from torchvision->-r reqs.txt (line 3)) (2.28.2)\n",
      "Requirement already satisfied: pillow!=8.3.*,>=5.3.0 in /cluster/apps/nss/gcc-8.2.0/python/3.10.4/x86_64/lib64/python3.10/site-packages (from torchvision->-r reqs.txt (line 3)) (9.1.1)\n",
      "Requirement already satisfied: tqdm in /cluster/apps/nss/gcc-8.2.0/python/3.10.4/x86_64/lib64/python3.10/site-packages (from torchtext->-r reqs.txt (line 4)) (4.64.0)\n",
      "Requirement already satisfied: packaging in /cluster/apps/nss/gcc-8.2.0/python/3.10.4/x86_64/lib64/python3.10/site-packages (from torchmetrics->-r reqs.txt (line 5)) (21.3)\n",
      "Requirement already satisfied: PyYAML>=5.4 in /cluster/apps/nss/gcc-8.2.0/python/3.10.4/x86_64/lib64/python3.10/site-packages (from pytorch_lightning->-r reqs.txt (line 6)) (6.0)\n",
      "Requirement already satisfied: fsspec[http]>2021.06.0 in /cluster/apps/nss/gcc-8.2.0/python/3.10.4/x86_64/lib64/python3.10/site-packages (from pytorch_lightning->-r reqs.txt (line 6)) (2022.5.0)\n",
      "Requirement already satisfied: lightning-utilities>=0.7.0 in /cluster/home/amohame/.local/lib/python3.10/site-packages (from pytorch_lightning->-r reqs.txt (line 6)) (0.8.0)\n",
      "Requirement already satisfied: joblib>=1.0.0 in /cluster/apps/nss/gcc-8.2.0/python/3.10.4/x86_64/lib64/python3.10/site-packages (from scikit-learn->-r reqs.txt (line 7)) (1.1.0)\n",
      "Requirement already satisfied: threadpoolctl>=2.0.0 in /cluster/apps/nss/gcc-8.2.0/python/3.10.4/x86_64/lib64/python3.10/site-packages (from scikit-learn->-r reqs.txt (line 7)) (3.1.0)\n",
      "Requirement already satisfied: click in /cluster/apps/nss/gcc-8.2.0/python/3.10.4/x86_64/lib64/python3.10/site-packages (from nltk->-r reqs.txt (line 9)) (8.1.3)\n",
      "Requirement already satisfied: regex>=2021.8.3 in /cluster/apps/nss/gcc-8.2.0/python/3.10.4/x86_64/lib64/python3.10/site-packages (from nltk->-r reqs.txt (line 9)) (2022.4.24)\n",
      "Requirement already satisfied: smart-open>=1.8.1 in /cluster/apps/nss/gcc-8.2.0/python/3.10.4/x86_64/lib64/python3.10/site-packages (from gensim->-r reqs.txt (line 10)) (6.0.0)\n",
      "Requirement already satisfied: GitPython>=1.0.0 in /cluster/apps/nss/gcc-8.2.0/python/3.10.4/x86_64/lib64/python3.10/site-packages (from wandb->-r reqs.txt (line 11)) (3.1.27)\n",
      "Requirement already satisfied: python-dateutil>=2.6.1 in /cluster/apps/nss/gcc-8.2.0/python/3.10.4/x86_64/lib64/python3.10/site-packages (from wandb->-r reqs.txt (line 11)) (2.8.2)\n",
      "Requirement already satisfied: promise<3,>=2.0 in /cluster/apps/nss/gcc-8.2.0/python/3.10.4/x86_64/lib64/python3.10/site-packages (from wandb->-r reqs.txt (line 11)) (2.3)\n",
      "Requirement already satisfied: shortuuid>=0.5.0 in /cluster/apps/nss/gcc-8.2.0/python/3.10.4/x86_64/lib64/python3.10/site-packages (from wandb->-r reqs.txt (line 11)) (1.0.9)\n",
      "Requirement already satisfied: psutil>=5.0.0 in /cluster/apps/nss/gcc-8.2.0/python/3.10.4/x86_64/lib64/python3.10/site-packages (from wandb->-r reqs.txt (line 11)) (5.9.5)\n",
      "Requirement already satisfied: sentry-sdk>=1.0.0 in /cluster/apps/nss/gcc-8.2.0/python/3.10.4/x86_64/lib64/python3.10/site-packages (from wandb->-r reqs.txt (line 11)) (1.5.12)\n",
      "Requirement already satisfied: six>=1.13.0 in /cluster/apps/nss/gcc-8.2.0/python/3.10.4/x86_64/lib64/python3.10/site-packages (from wandb->-r reqs.txt (line 11)) (1.16.0)\n",
      "Requirement already satisfied: docker-pycreds>=0.4.0 in /cluster/apps/nss/gcc-8.2.0/python/3.10.4/x86_64/lib64/python3.10/site-packages (from wandb->-r reqs.txt (line 11)) (0.4.0)\n",
      "Requirement already satisfied: protobuf<4.0dev,>=3.12.0 in /cluster/apps/nss/gcc-8.2.0/python/3.10.4/x86_64/lib64/python3.10/site-packages (from wandb->-r reqs.txt (line 11)) (3.19.4)\n",
      "Requirement already satisfied: pathtools in /cluster/apps/nss/gcc-8.2.0/python/3.10.4/x86_64/lib64/python3.10/site-packages (from wandb->-r reqs.txt (line 11)) (0.1.2)\n",
      "Requirement already satisfied: setproctitle in /cluster/apps/nss/gcc-8.2.0/python/3.10.4/x86_64/lib64/python3.10/site-packages (from wandb->-r reqs.txt (line 11)) (1.2.3)\n",
      "Requirement already satisfied: setuptools in /cluster/apps/nss/gcc-8.2.0/python/3.10.4/x86_64/lib64/python3.10/site-packages (from wandb->-r reqs.txt (line 11)) (58.1.0)\n",
      "Requirement already satisfied: aiohttp in /cluster/apps/nss/gcc-8.2.0/python/3.10.4/x86_64/lib64/python3.10/site-packages (from fsspec[http]>2021.06.0->pytorch_lightning->-r reqs.txt (line 6)) (3.8.1)\n",
      "Requirement already satisfied: gitdb<5,>=4.0.1 in /cluster/apps/nss/gcc-8.2.0/python/3.10.4/x86_64/lib64/python3.10/site-packages (from GitPython>=1.0.0->wandb->-r reqs.txt (line 11)) (4.0.9)\n",
      "Requirement already satisfied: pyparsing!=3.0.5,>=2.0.2 in /cluster/apps/nss/gcc-8.2.0/python/3.10.4/x86_64/lib64/python3.10/site-packages (from packaging->torchmetrics->-r reqs.txt (line 5)) (3.0.9)\n",
      "Requirement already satisfied: charset-normalizer<4,>=2 in /cluster/apps/nss/gcc-8.2.0/python/3.10.4/x86_64/lib64/python3.10/site-packages (from requests->torchvision->-r reqs.txt (line 3)) (2.0.12)\n",
      "Requirement already satisfied: idna<4,>=2.5 in /cluster/apps/nss/gcc-8.2.0/python/3.10.4/x86_64/lib64/python3.10/site-packages (from requests->torchvision->-r reqs.txt (line 3)) (3.3)\n",
      "Requirement already satisfied: urllib3<1.27,>=1.21.1 in /cluster/apps/nss/gcc-8.2.0/python/3.10.4/x86_64/lib64/python3.10/site-packages (from requests->torchvision->-r reqs.txt (line 3)) (1.26.9)\n",
      "Requirement already satisfied: certifi>=2017.4.17 in /cluster/apps/nss/gcc-8.2.0/python/3.10.4/x86_64/lib64/python3.10/site-packages (from requests->torchvision->-r reqs.txt (line 3)) (2022.5.18.1)\n",
      "Requirement already satisfied: smmap<6,>=3.0.1 in /cluster/apps/nss/gcc-8.2.0/python/3.10.4/x86_64/lib64/python3.10/site-packages (from gitdb<5,>=4.0.1->GitPython>=1.0.0->wandb->-r reqs.txt (line 11)) (5.0.0)\n",
      "Requirement already satisfied: attrs>=17.3.0 in /cluster/apps/nss/gcc-8.2.0/python/3.10.4/x86_64/lib64/python3.10/site-packages (from aiohttp->fsspec[http]>2021.06.0->pytorch_lightning->-r reqs.txt (line 6)) (21.4.0)\n",
      "Requirement already satisfied: multidict<7.0,>=4.5 in /cluster/apps/nss/gcc-8.2.0/python/3.10.4/x86_64/lib64/python3.10/site-packages (from aiohttp->fsspec[http]>2021.06.0->pytorch_lightning->-r reqs.txt (line 6)) (6.0.2)\n",
      "Requirement already satisfied: async-timeout<5.0,>=4.0.0a3 in /cluster/apps/nss/gcc-8.2.0/python/3.10.4/x86_64/lib64/python3.10/site-packages (from aiohttp->fsspec[http]>2021.06.0->pytorch_lightning->-r reqs.txt (line 6)) (4.0.2)\n",
      "Requirement already satisfied: yarl<2.0,>=1.0 in /cluster/apps/nss/gcc-8.2.0/python/3.10.4/x86_64/lib64/python3.10/site-packages (from aiohttp->fsspec[http]>2021.06.0->pytorch_lightning->-r reqs.txt (line 6)) (1.7.2)\n",
      "Requirement already satisfied: frozenlist>=1.1.1 in /cluster/apps/nss/gcc-8.2.0/python/3.10.4/x86_64/lib64/python3.10/site-packages (from aiohttp->fsspec[http]>2021.06.0->pytorch_lightning->-r reqs.txt (line 6)) (1.3.0)\n",
      "Requirement already satisfied: aiosignal>=1.1.2 in /cluster/apps/nss/gcc-8.2.0/python/3.10.4/x86_64/lib64/python3.10/site-packages (from aiohttp->fsspec[http]>2021.06.0->pytorch_lightning->-r reqs.txt (line 6)) (1.2.0)\n"
     ]
    }
   ],
   "source": [
    "!pip install -r reqs.txt"
   ]
  },
  {
   "cell_type": "code",
   "execution_count": 1,
   "metadata": {},
   "outputs": [],
   "source": [
    "import pytorch_lightning as L\n",
    "from pytorch_lightning.loggers import WandbLogger\n",
    "from pytorch_lightning.callbacks import LearningRateMonitor, ModelCheckpoint\n",
    "\n",
    "import torch\n",
    "import torch.nn as nn\n",
    "\n",
    "from dataset.twitter_dataset import TwitterDataModule\n",
    "from recipes.sentiment_analysis import SentimentAnalysisNet"
   ]
  },
  {
   "cell_type": "code",
   "execution_count": 2,
   "metadata": {},
   "outputs": [],
   "source": [
    "import pytorch_lightning as L\n",
    "\n",
    "import torch\n",
    "from torch.utils.data import Dataset, DataLoader\n",
    "\n",
    "import numpy as np\n",
    "from typing import Callable, Dict\n",
    "\n",
    "from scipy.sparse._csr import csr_matrix\n",
    "\n",
    "NEGATIVE = 0\n",
    "POSITIVE = 1\n",
    "\n",
    "class TwitterDataModule(L.LightningDataModule):\n",
    "    def __init__(\n",
    "        self,\n",
    "        path_train_pos: str,\n",
    "        path_train_neg: str,\n",
    "        path_predict: str,\n",
    "        convert_to_features: Callable,\n",
    "        convert_to_features_kwargs: Dict=None,\n",
    "        tokenizer: Callable=None,\n",
    "        tokenizer_kwargs: Dict=None,\n",
    "        val_percentage: float=0.1,\n",
    "        batch_size: int=32,\n",
    "    ) -> None:\n",
    "        super().__init__()\n",
    "        self.path_train_pos = path_train_pos\n",
    "        self.path_train_neg = path_train_neg\n",
    "        self.path_predict = path_predict\n",
    "        self.val_percentage = val_percentage\n",
    "        self.convert_to_features = convert_to_features\n",
    "        self.convert_to_features_kwargs = convert_to_features_kwargs or {}\n",
    "        self.tokenizer = tokenizer\n",
    "        self.tokenizer_kwargs = tokenizer_kwargs or {}\n",
    "        self.batch_size = batch_size\n",
    "\n",
    "    @property\n",
    "    def train_corpus(self):\n",
    "        positive = self._load_tweets(self.path_train_pos)\n",
    "        negative = self._load_tweets(self.path_train_neg)\n",
    "        return np.array(positive + negative)\n",
    "\n",
    "    @property\n",
    "    def predict_corpus(self):\n",
    "        return np.array(self._load_tweets(self.path_predict))\n",
    "\n",
    "    def setup(self, stage: str=None) -> None:\n",
    "        \"\"\"Recovers data from disk and performs train/val split\"\"\"\n",
    "        if stage is None or stage == \"fit\":\n",
    "            positive = self._load_tweets(self.path_train_pos)\n",
    "            negative = self._load_tweets(self.path_train_neg)\n",
    "            tweets = np.array(positive + negative)\n",
    "            if self.tokenizer is not None:\n",
    "                tweets = self.tokenizer(tweets, **self.tokenizer_kwargs)\n",
    "            tweets = self.convert_to_features(tweets, **self.convert_to_features_kwargs) \n",
    "            if isinstance(tweets, csr_matrix): # CountVectorizer\n",
    "                tweets = torch.from_numpy(tweets.todense()).float()\n",
    "            # else: tweets: torch.tensor\n",
    "\n",
    "            labels = torch.tensor([POSITIVE] * len(positive) + [NEGATIVE] * len(negative), dtype=torch.float).unsqueeze(1)\n",
    "\n",
    "            # train, val split\n",
    "            np.random.seed(1) # reproducibility\n",
    "            shuffled_indices = np.random.permutation(tweets.shape[0])\n",
    "            split = int((1 - self.val_percentage) * tweets.shape[0])\n",
    "            train_indices = shuffled_indices[:split]\n",
    "            val_indices = shuffled_indices[split:]\n",
    "\n",
    "            self.train_data = _Dataset(tweets[train_indices], labels[train_indices])\n",
    "            self.val_data =  _Dataset(tweets[val_indices], labels[val_indices])\n",
    "            \n",
    "        if stage is None or stage == \"predict\":\n",
    "            test = self.predict_corpus\n",
    "            tweets = self.convert_to_features(np.array(test))\n",
    "            if isinstance(tweets, csr_matrix): # CountVectorizer\n",
    "                tweets = torch.from_numpy(tweets.todense())\n",
    "            self.test_data = tweets\n",
    "\n",
    "        self.dims = (self.batch_size, *(tweets.shape[1:])) # save input dimensions\n",
    "    \n",
    "    def train_dataloader(self):\n",
    "        return  DataLoader(self.train_data, self.batch_size)\n",
    "    \n",
    "    def val_dataloader(self):\n",
    "        return DataLoader(self.val_data, self.batch_size)\n",
    "    \n",
    "    def predict_dataloader(self):\n",
    "        return DataLoader(self.test_data, self.batch_size)\n",
    "    \n",
    "    def _load_tweets(self, path: str):\n",
    "        tweets = []\n",
    "        with open(path, 'r', encoding='utf-8') as f:\n",
    "            for line in f:\n",
    "                tweets.append(line.rstrip())\n",
    "        return tweets\n",
    "    \n",
    "class _Dataset(Dataset):\n",
    "    def __init__(self, X, y):\n",
    "        self.X = X\n",
    "        self.y = y\n",
    "    \n",
    "    def __len__(self):\n",
    "        return self.X.shape[0]\n",
    "    \n",
    "    def __getitem__(self, i):\n",
    "        return self.X[i], self.y[i]"
   ]
  },
  {
   "cell_type": "code",
   "execution_count": 3,
   "metadata": {},
   "outputs": [],
   "source": [
    "batch_size = 32\n",
    "embedding_dim = 300\n",
    "    \n",
    "from preprocessing.tokenize import Tokenizer\n",
    "from preprocessing.embeddings import create_w2v_embeddings\n",
    "\n",
    "dm = TwitterDataModule(\n",
    "    \"twitter-datasets/train_pos_full.txt\",\n",
    "    \"twitter-datasets/train_neg_full.txt\",\n",
    "    \"twitter-datasets/test_data.txt\",\n",
    "    convert_to_features=create_w2v_embeddings,\n",
    "    convert_to_features_kwargs={\n",
    "        \"workers\": 8,\n",
    "        \"vector_size\": embedding_dim,\n",
    "        \"min_count\": 1,\n",
    "        \"window\": 5,\n",
    "        \"sample\": 1e-3,\n",
    "    },\n",
    "    tokenizer=Tokenizer(),\n",
    "    batch_size=batch_size,\n",
    ")"
   ]
  },
  {
   "cell_type": "code",
   "execution_count": null,
   "metadata": {},
   "outputs": [],
   "source": [
    "dm.setup(stage=\"fit\")\n",
    "print(dm.dims)"
   ]
  },
  {
   "cell_type": "code",
   "execution_count": null,
   "metadata": {},
   "outputs": [],
   "source": [
    "class RNNClassifier(nn.Module):\n",
    "    def __init__(\n",
    "        self, \n",
    "        rnn: nn.Module,\n",
    "        classifier: nn.Module,\n",
    "    ):\n",
    "        super().__init__()\n",
    "        self.rnn = rnn\n",
    "        self.classifier = classifier\n",
    "\n",
    "    def forward(self, x):\n",
    "        # x: (batch_size, max_seq_len, embedding_size)\n",
    "        x, _ = self.rnn(x) #  x: (batch_size, max_seq_len, hidden_size)\n",
    "        x = x[:, -1, :] # only take last hidden state per sentence\n",
    "        x = self.classifier(x) #  x: (batch_size, 2)\n",
    "        return x\n",
    "    \n",
    "model = RNNClassifier(\n",
    "    rnn=nn.LSTM(\n",
    "        input_size=dm.dims[-1],\n",
    "        hidden_size=64,\n",
    "        num_layers=2,\n",
    "        batch_first=True,\n",
    "        dropout=0.1,\n",
    "    ),\n",
    "    classifier=nn.Sequential(\n",
    "        nn.Linear(64, 16),\n",
    "        nn.BatchNorm1d(16),\n",
    "        nn.ReLU(),\n",
    "        nn.Linear(16, 8),\n",
    "        nn.BatchNorm1d(8),\n",
    "        nn.ReLU(),\n",
    "        nn.Linear(8, 1),\n",
    "        nn.Sigmoid(),\n",
    "    )\n",
    ")"
   ]
  },
  {
   "cell_type": "code",
   "execution_count": null,
   "metadata": {},
   "outputs": [],
   "source": [
    "net = SentimentAnalysisNet(\n",
    "    model,\n",
    "    lr=10e-3,\n",
    ")"
   ]
  },
  {
   "cell_type": "code",
   "execution_count": null,
   "metadata": {},
   "outputs": [],
   "source": [
    "trainer = L.Trainer(\n",
    "    max_epochs=5,\n",
    "    #     # callbacks=trainer_params[\"callbacks\"],\n",
    "    #     # logger=wandb_logger,\n",
    ")"
   ]
  },
  {
   "cell_type": "code",
   "execution_count": 62,
   "metadata": {},
   "outputs": [
    {
     "name": "stdout",
     "output_type": "stream",
     "text": [
      "start training...\n"
     ]
    },
    {
     "name": "stderr",
     "output_type": "stream",
     "text": [
      "LOCAL_RANK: 0 - CUDA_VISIBLE_DEVICES: [0]\n",
      "\n",
      "  | Name      | Type           | Params\n",
      "---------------------------------------------\n",
      "0 | model     | RNNClassifier  | 102 K \n",
      "1 | criterion | BCELoss        | 0     \n",
      "2 | accuracy  | BinaryAccuracy | 0     \n",
      "---------------------------------------------\n",
      "102 K     Trainable params\n",
      "0         Non-trainable params\n",
      "102 K     Total params\n",
      "0.410     Total estimated model params size (MB)\n",
      "SLURM auto-requeueing enabled. Setting signal handlers.\n"
     ]
    },
    {
     "data": {
      "application/vnd.jupyter.widget-view+json": {
       "model_id": "d9f78ffe4391425993841f103883d9dd",
       "version_major": 2,
       "version_minor": 0
      },
      "text/plain": [
       "Training: 0it [00:00, ?it/s]"
      ]
     },
     "metadata": {},
     "output_type": "display_data"
    },
    {
     "name": "stderr",
     "output_type": "stream",
     "text": [
      "`Trainer.fit` stopped: `max_epochs=1` reached.\n"
     ]
    },
    {
     "name": "stdout",
     "output_type": "stream",
     "text": [
      "done!\n"
     ]
    }
   ],
   "source": [
    "print(\"start training...\")\n",
    "trainer.fit(model=net, datamodule=dm)\n",
    "print(\"done!\")"
   ]
  }
 ],
 "metadata": {
  "colab": {
   "provenance": []
  },
  "kernelspec": {
   "display_name": "Python 3 (ipykernel)",
   "language": "python",
   "name": "python3"
  },
  "language_info": {
   "codemirror_mode": {
    "name": "ipython",
    "version": 3
   },
   "file_extension": ".py",
   "mimetype": "text/x-python",
   "name": "python",
   "nbconvert_exporter": "python",
   "pygments_lexer": "ipython3",
   "version": "3.10.4"
  }
 },
 "nbformat": 4,
 "nbformat_minor": 4
}
